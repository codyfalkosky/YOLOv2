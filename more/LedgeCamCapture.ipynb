{
 "cells": [
  {
   "cell_type": "code",
   "execution_count": 8,
   "id": "fa1e34f6-2132-4b67-8d7d-851e2e0b3fdd",
   "metadata": {},
   "outputs": [],
   "source": [
    "import cv2\n",
    "import datetime\n",
    "import time\n",
    "import os"
   ]
  },
  {
   "cell_type": "code",
   "execution_count": 9,
   "id": "ac153c01-3672-4a72-8465-804e0529b64a",
   "metadata": {},
   "outputs": [],
   "source": [
    "class LedgeCamCapture:\n",
    "    def __init__(self):\n",
    "        self.image_save_path = '/Users/falkosky/Desktop/LedgeCam/Images_Seq/'\n",
    "        self.ledge_cam       = cv2.VideoCapture(0)\n",
    "\n",
    "    def generate_file_name(self):\n",
    "        now = datetime.datetime.now()\n",
    "        now = now.strftime('_%Y_%m_%d__%H_%M')\n",
    "        filename = f\"{self.image_save_path}/{str(self.seq_num)}/HollywoodBoulevard{now}.jpg\"\n",
    "        return filename\n",
    "        \n",
    "    def make_dir(self):\n",
    "        now = datetime.datetime.now()\n",
    "        now = now.strftime('_%Y_%m_%d__%H_%M')\n",
    "        path = f\"{self.image_save_path}/{now}\"\n",
    "        os.mkdir(path)\n",
    "        self.dir = path\n",
    "\n",
    "    def take_and_save_seq(self, seq_seconds, frames_per_sec):\n",
    "        frames                 = seq_seconds * frames_per_sec\n",
    "        intra_frame_pause_time = 1 / frames_per_sec\n",
    "\n",
    "        self.make_dir()\n",
    "        for frame in range(frames):\n",
    "            self.take_and_save_img(frame=frame)\n",
    "            time.sleep(intra_frame_pause_time)\n",
    "           \n",
    "\n",
    "    def take_and_save_img(self, frame=None):\n",
    "        # take image\n",
    "        result, image = self.ledge_cam.read()\n",
    "        assert result, 'NO IMAGE CAPTURED'\n",
    "\n",
    "        # save path\n",
    "        if frame == None:\n",
    "            img_save_path = self.generate_file_name()\n",
    "        else:\n",
    "            img_save_path = self.dir + f'/{frame}.jpg'\n",
    "\n",
    "        # save\n",
    "        cv2.imwrite(img_save_path, image)"
   ]
  },
  {
   "cell_type": "code",
   "execution_count": null,
   "id": "c80bb25f-3f6b-4aea-b469-86ebd02ac140",
   "metadata": {},
   "outputs": [],
   "source": [
    "# init class\n",
    "ledge_cam_capture = LedgeCamCapture()\n",
    "\n",
    "# # take a picture every 1 minute\n",
    "# while True:\n",
    "#     ledge_cam_capture.take_and_save_img()\n",
    "#     time.sleep(60)\n",
    "\n",
    "# # capture a sequence of images\n",
    "# while True:\n",
    "#     ledge_cam_capture.take_and_save_seq(10, 15)\n",
    "#     time.sleep(30 * 60)"
   ]
  }
 ],
 "metadata": {
  "kernelspec": {
   "display_name": "Python 3 (ipykernel)",
   "language": "python",
   "name": "python3"
  },
  "language_info": {
   "codemirror_mode": {
    "name": "ipython",
    "version": 3
   },
   "file_extension": ".py",
   "mimetype": "text/x-python",
   "name": "python",
   "nbconvert_exporter": "python",
   "pygments_lexer": "ipython3",
   "version": "3.12.0"
  }
 },
 "nbformat": 4,
 "nbformat_minor": 5
}
