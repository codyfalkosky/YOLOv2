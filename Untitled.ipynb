{
 "cells": [
  {
   "cell_type": "code",
   "execution_count": 3,
   "id": "11863ce5-8aea-4677-9e5c-aa5d2bc35088",
   "metadata": {},
   "outputs": [],
   "source": [
    "from moviepy.editor import VideoFileClip"
   ]
  },
  {
   "cell_type": "code",
   "execution_count": 10,
   "id": "ecb01983-f4f8-4b4d-a5e2-13f42ebca2ec",
   "metadata": {},
   "outputs": [],
   "source": [
    "videoClip = VideoFileClip(\"/Users/codyfalkosky/Desktop/yolo_traffic.mp4\")\n",
    "videoClip = videoClip.resize(newsize=0.25)"
   ]
  },
  {
   "cell_type": "code",
   "execution_count": 11,
   "id": "075281e0-ecac-41f9-bbd1-b2626e1ee05f",
   "metadata": {},
   "outputs": [
    {
     "name": "stdout",
     "output_type": "stream",
     "text": [
      "MoviePy - Building file /Users/codyfalkosky/Desktop/yolo_1.gif with imageio.\n"
     ]
    },
    {
     "name": "stderr",
     "output_type": "stream",
     "text": [
      "                                                                                                                                                                                        \r"
     ]
    }
   ],
   "source": [
    "videoClip.write_gif(\"/Users/codyfalkosky/Desktop/yolo_1.gif\", fps=30)"
   ]
  },
  {
   "cell_type": "markdown",
   "id": "27f9b8fb-9f44-45f6-896c-34d0000a93bb",
   "metadata": {},
   "source": [
    "<video width=\"320\" height=\"240\" controls>\n",
    "    <source src=\"./video/yolo_traffic_1.mov\" type=\"video/mov\">\n",
    "    <source src=\"./video/yolo_traffic_1.mp4\" type=\"video/mp4\">\n",
    "</video>"
   ]
  },
  {
   "cell_type": "code",
   "execution_count": null,
   "id": "9c47620d-872e-434a-95f5-47133b5842ea",
   "metadata": {},
   "outputs": [],
   "source": []
  }
 ],
 "metadata": {
  "kernelspec": {
   "display_name": "Python 3 (ipykernel)",
   "language": "python",
   "name": "python3"
  },
  "language_info": {
   "codemirror_mode": {
    "name": "ipython",
    "version": 3
   },
   "file_extension": ".py",
   "mimetype": "text/x-python",
   "name": "python",
   "nbconvert_exporter": "python",
   "pygments_lexer": "ipython3",
   "version": "3.12.0"
  }
 },
 "nbformat": 4,
 "nbformat_minor": 5
}
